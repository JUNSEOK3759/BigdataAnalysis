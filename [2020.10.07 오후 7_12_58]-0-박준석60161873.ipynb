{
 "cells": [
  {
   "cell_type": "markdown",
   "metadata": {},
   "source": [
    "## [출석인정용과제]\n",
    "Building_Permits.csv를 dataframe 형태로 읽어들여 sfPermits에 집어 넣고 그 dataframe의 행과 열의 갯수를 출력하시오"
   ]
  },
  {
   "cell_type": "code",
   "execution_count": 3,
   "metadata": {},
   "outputs": [
    {
     "name": "stdout",
     "output_type": "stream",
     "text": [
      "Requirement already satisfied: pandas in c:\\users\\user\\anaconda3\\envs\\myr\\lib\\site-packages (1.1.2)\n",
      "Requirement already satisfied: numpy>=1.15.4 in c:\\users\\user\\anaconda3\\envs\\myr\\lib\\site-packages (from pandas) (1.19.2)\n",
      "Requirement already satisfied: python-dateutil>=2.7.3 in c:\\users\\user\\anaconda3\\envs\\myr\\lib\\site-packages (from pandas) (2.8.1)\n",
      "Requirement already satisfied: pytz>=2017.2 in c:\\users\\user\\anaconda3\\envs\\myr\\lib\\site-packages (from pandas) (2020.1)\n",
      "Requirement already satisfied: six>=1.5 in c:\\users\\user\\anaconda3\\envs\\myr\\lib\\site-packages (from python-dateutil>=2.7.3->pandas) (1.15.0)\n"
     ]
    }
   ],
   "source": [
    "!pip install pandas\n",
    "import numpy as np \n",
    "import pandas as pd \n"
   ]
  },
  {
   "cell_type": "code",
   "execution_count": 16,
   "metadata": {},
   "outputs": [
    {
     "name": "stdout",
     "output_type": "stream",
     "text": [
      "행의 갯수 :  198900  열의 갯수 :  43\n"
     ]
    }
   ],
   "source": [
    "sfPermits = pd.read_csv(\"Building_Permits.csv\")\n",
    "print(\"행의 갯수 : \", sfPermits.shape[0],\"\", \"열의 갯수 : \", sfPermits.shape[1])"
   ]
  },
  {
   "cell_type": "markdown",
   "metadata": {},
   "source": [
    "## [학점취득용과제 1]\n",
    "\n",
    "sfPermits의 column별로 null인 data의 갯수를 구해 missingCount에 집어넣고 missingCount의 type을 출력하시오. 그 후 missingCount를 null인 data의 갯수의 내림차순으로 정렬하여 상위 10개만 출력하시오 "
   ]
  },
  {
   "cell_type": "code",
   "execution_count": 17,
   "metadata": {
    "scrolled": false
   },
   "outputs": [
    {
     "name": "stdout",
     "output_type": "stream",
     "text": [
      "type =  <class 'pandas.core.series.Series'>\n",
      "dtype =  int64\n",
      "TIDF Compliance                  198898\n",
      "Voluntary Soft-Story Retrofit    198865\n",
      "Unit Suffix                      196939\n",
      "Street Number Suffix             196684\n",
      "Site Permit                      193541\n",
      "Structural Notification          191978\n",
      "Fire Only Permit                 180073\n",
      "Unit                             169421\n",
      "Completed Date                   101709\n",
      "Permit Expiration Date            51880\n",
      "dtype: int64\n"
     ]
    }
   ],
   "source": [
    "missingCount = sfPermits.isnull().sum()\n",
    "print(\"type = \", type(missingCount))\n",
    "print(\"dtype = \", missingCount.dtype)\n",
    "NullmissingCount = missingCount.sort_values(ascending=False)\n",
    "print(NullmissingCount.head(10))"
   ]
  },
  {
   "cell_type": "markdown",
   "metadata": {},
   "source": [
    "## [학점취득용과제 2]\n",
    "\n",
    "위 문제에서 구한 column별 null data의 갯수 중에는 중복된 값도 있고 유일한 값도 있는데 이 중 유일한 값이 몇개나 있는지 구해서 출력하시오. value_counts()라는 method를 활용하고 아마 배우지 않은 method를 자신이 직접 찾아내어 사용해야 할 수도 있음. <br>\n",
    "**한 줄의 코드로 작성 가능함.**"
   ]
  },
  {
   "cell_type": "code",
   "execution_count": 18,
   "metadata": {},
   "outputs": [
    {
     "data": {
      "text/plain": [
       "27"
      ]
     },
     "execution_count": 18,
     "metadata": {},
     "output_type": "execute_result"
    }
   ],
   "source": [
    "len(missingCount.drop_duplicates(keep = False))"
   ]
  }
 ],
 "metadata": {
  "kernelspec": {
   "display_name": "Python 3",
   "language": "python",
   "name": "python3"
  },
  "language_info": {
   "codemirror_mode": {
    "name": "ipython",
    "version": 3
   },
   "file_extension": ".py",
   "mimetype": "text/x-python",
   "name": "python",
   "nbconvert_exporter": "python",
   "pygments_lexer": "ipython3",
   "version": "3.7.1"
  }
 },
 "nbformat": 4,
 "nbformat_minor": 4
}
