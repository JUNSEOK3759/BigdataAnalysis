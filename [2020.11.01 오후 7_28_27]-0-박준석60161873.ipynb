{
 "cells": [
  {
   "cell_type": "markdown",
   "metadata": {},
   "source": [
    "## [출석인정용과제]\n",
    "\n",
    "IMDB-Movie-Data.csv를 dataframe으로 읽어들여 전체 data의 몇 %가  missing data인지 소숫점 이하 둘째자리까지만 출력하는 프로그램을 작성하시오. 파일을 읽어들일때 \"Title\"을 index column으로 하시오."
   ]
  },
  {
   "cell_type": "code",
   "execution_count": 1,
   "metadata": {},
   "outputs": [
    {
     "name": "stdout",
     "output_type": "stream",
     "text": [
      "Percentage of Missing Data = 0.02 %\n"
     ]
    }
   ],
   "source": [
    "import pandas as pd\n",
    "import numpy as np\n",
    "movies_df = pd.read_csv(\"IMDB-Movie-Data.csv\", index_col=\"Title\")\n",
    "row = movies_df.shape[0]\n",
    "col = movies_df.shape[1]\n",
    "x = sum(movies_df.isnull().sum())\n",
    "y = x / (row * col)\n",
    "print(\"Percentage of Missing Data =\", round(y, 2), \"%\")"
   ]
  },
  {
   "cell_type": "markdown",
   "metadata": {},
   "source": [
    "## [학점취득용과제1, 2, 3]\n",
    "\n",
    "### data cleaning & exploration 1.ipynb 파일 강의시 언급한 homework 문제를 다음의 순서대로 프로그램하시오. 아래 7개의 단계가 문제 3개로 나뉘어 있음.\n",
    "\n",
    "1. IMDB-Movie-Data.csv 파일을 다시 읽어들이시오.\n",
    "1. revenue column의 missing data 갯수를 출력하시오\n",
    "1. revenue column의 mean값을 구해 revenue_mean 에 넣고 출력하시오\n",
    "1. revenue column을 genre별로 grouping하고 genre별 mean값을 구해 genre_mean에 넣고 출력하시오. genre이름과 mean값만 출력되어야 함.\n",
    "1. revenue column의 missing data를 genre별 평균값으로 impute 하시오.\n",
    "1. genre에 따라서 1개의 행만 있고 그 행의 revenue 값이 NaN인 genre가 여러 개 있습니다.이런 genre의 revenue 평균값은 그대로 NaN이 되고 impute 해봐야 NaN 자리에 NaN이 들어가게 되어 그대로 NaN으로 남습니다.  revenue column에서 impute 후에도 아직도 NaN인 data의 갯수를 출력하시오.\n",
    "1. 6단계후에 남은 NaN 모두를 3단계에서 구한 revenue_mean으로 채우고 revenue column에서 NaN인 data의 갯수를 출력하시오. 0개가 출력되어 더 이상 NaN이 없는 것으로 나와야 맞습니다.\n",
    "\n",
    "### 프로그램 실행시 warning이 나올 수 있는데 프로그램 시작시 아래 코드를 넣어 warning이 출력되지 않도록 하시오\n",
    "\n",
    "import warnings <br>\n",
    "warnings.filterwarnings('ignore')\n",
    "\n",
    "### dataframe의 cell이 NaN(Not a Number)인지 아닌지를 테스트하려면np.isnan() 함수를 사용하시오."
   ]
  },
  {
   "cell_type": "markdown",
   "metadata": {},
   "source": [
    "## [학점취득용과제1]\n",
    "### 아래 단계가 실행되도록 코딩하시오\n",
    "1. IMDB-Movie-Data.csv 파일을 다시 읽어들이시오.\n",
    "1. revenue column의 missing data 갯수를 출력하시오\n",
    "1. revenue column의 mean값을 구해 revenue_mean 에 넣고 출력하시오"
   ]
  },
  {
   "cell_type": "code",
   "execution_count": 2,
   "metadata": {},
   "outputs": [
    {
     "name": "stdout",
     "output_type": "stream",
     "text": [
      "2.\n",
      "revenue column의 Missing Data 갯수 :  128\n",
      "\n",
      "3.\n"
     ]
    },
    {
     "data": {
      "text/plain": [
       "82.95637614678898"
      ]
     },
     "execution_count": 2,
     "metadata": {},
     "output_type": "execute_result"
    }
   ],
   "source": [
    "movies_df = pd.read_csv(\"IMDB-Movie-Data.csv\", index_col=\"Title\")\n",
    "print(\"2.\")\n",
    "print(\"revenue column의 Missing Data 갯수 : \", movies_df['Revenue (Millions)'].isnull().sum())\n",
    "print()\n",
    "print(\"3.\")\n",
    "revenue = movies_df['Revenue (Millions)']\n",
    "revenue_mean = revenue.mean()\n",
    "revenue_mean"
   ]
  },
  {
   "cell_type": "markdown",
   "metadata": {},
   "source": [
    "## [학점취득용과제2]\n",
    "### 아래 단계가 실행되도록 코딩하시오\n",
    "4. revenue column을 genre별로 grouping하고 genre별 mean값을 구해 genre_mean에 넣고 출력하시오. genre이름과 mean값만 출력되어야 함.\n",
    "5. revenue column의 missing data를 genre별 평균값으로 impute 하시오."
   ]
  },
  {
   "cell_type": "code",
   "execution_count": 3,
   "metadata": {
    "scrolled": false
   },
   "outputs": [
    {
     "name": "stdout",
     "output_type": "stream",
     "text": [
      "4.\n",
      "Genre\n",
      "Action                        131.560000\n",
      "Action,Adventure              223.740000\n",
      "Action,Adventure,Biography     16.500000\n",
      "Action,Adventure,Comedy        95.733571\n",
      "Action,Adventure,Crime         90.620000\n",
      "                                 ...    \n",
      "Romance,Sci-Fi,Thriller        62.450000\n",
      "Sci-Fi                         20.760000\n",
      "Sci-Fi,Thriller                64.510000\n",
      "Thriller                        0.320000\n",
      "Thriller,War                         NaN\n",
      "Name: Revenue (Millions), Length: 207, dtype: float64\n",
      "\n",
      "5.\n",
      "Title\n",
      "Guardians of the Galaxy    333.130000\n",
      "Prometheus                 126.460000\n",
      "Split                      138.120000\n",
      "Sing                       270.320000\n",
      "Suicide Squad              325.020000\n",
      "                              ...    \n",
      "Secret in Their Eyes        38.923333\n",
      "Hostel: Part II             17.540000\n",
      "Step Up 2: The Streets      58.010000\n",
      "Search Party                58.880000\n",
      "Nine Lives                  19.640000\n",
      "Name: Revenue (Millions), Length: 1000, dtype: float64\n"
     ]
    }
   ],
   "source": [
    "print(\"4.\")\n",
    "df1 = movies_df['Revenue (Millions)'].groupby(movies_df['Genre'])\n",
    "genre_mean = df1.mean()\n",
    "print(genre_mean)\n",
    "print(\"\")\n",
    "print(\"5.\")\n",
    "movies_df['Revenue (Millions)'] = df1.transform(lambda a:a.fillna(a.mean()))\n",
    "print(movies_df['Revenue (Millions)'])"
   ]
  },
  {
   "cell_type": "markdown",
   "metadata": {},
   "source": [
    "## [학점취득용과제3]\n",
    "### 아래 단계가 실행되도록 코딩하시오\n",
    "6. genre에 따라서 1개의 행만 있고 그 행의 revenue 값이 NaN인 genre가 여러 개 있습니다.이런 genre의 revenue 평균값은 그대로 NaN이 되고 impute 해봐야 NaN 자리에 NaN이 들어가게 되어 그대로 NaN으로 남습니다.  revenue column에서 impute 후에도 아직도 NaN인 data의 갯수를 출력하시오.\n",
    "7. 6단계후에 남은 NaN 모두를 3단계에서 구한 revenue_mean으로 채우고 revenue column에서 NaN인 data의 갯수를 출력하시오. 0개가 출력되어 더 이상 NaN이 없는 것으로 나와야 맞습니다."
   ]
  },
  {
   "cell_type": "code",
   "execution_count": 107,
   "metadata": {},
   "outputs": [
    {
     "name": "stdout",
     "output_type": "stream",
     "text": [
      "6.\n",
      "12\n",
      "\n",
      "7.\n",
      "0\n"
     ]
    }
   ],
   "source": [
    "print(\"6.\")\n",
    "print(np.isnan(movies_df['Revenue (Millions)']).sum())\n",
    "print(\"\")\n",
    "print(\"7.\")\n",
    "movies_df['Revenue (Millions)'].fillna(revenue_mean, inplace=True)\n",
    "print(np.isnan(movies_df['Revenue (Millions)']).sum())"
   ]
  },
  {
   "cell_type": "code",
   "execution_count": null,
   "metadata": {},
   "outputs": [],
   "source": []
  }
 ],
 "metadata": {
  "kernelspec": {
   "display_name": "Python 3",
   "language": "python",
   "name": "python3"
  },
  "language_info": {
   "codemirror_mode": {
    "name": "ipython",
    "version": 3
   },
   "file_extension": ".py",
   "mimetype": "text/x-python",
   "name": "python",
   "nbconvert_exporter": "python",
   "pygments_lexer": "ipython3",
   "version": "3.7.1"
  }
 },
 "nbformat": 4,
 "nbformat_minor": 4
}
